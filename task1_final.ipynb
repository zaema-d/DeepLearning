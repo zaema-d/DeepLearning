{
 "cells": [
  {
   "cell_type": "code",
   "execution_count": 1,
   "metadata": {},
   "outputs": [],
   "source": [
    "import numpy as np\n",
    "import matplotlib.pyplot as plt\n",
    "from sklearn.model_selection import train_test_split\n",
    "from sklearn.metrics import precision_score, recall_score, f1_score\n",
    "from sklearn.model_selection import GridSearchCV\n",
    "from sklearn.metrics import accuracy_score, precision_score, recall_score, f1_score\n",
    "import os \n",
    "data = []  # List to store image data\n",
    "labels = []  # List to store labels\n",
    "\n",
    "# Define a function to extract the person label from the file name\n",
    "def extract_person_label(file_name):\n",
    "    return int(file_name.split('.')[0].replace('subject', '')) - 1  # Subtract 1 to make labels start from 0\n",
    "\n",
    "# Load data and labels\n",
    "# Assuming the dataset files are in the 'dataset' directory\n",
    "dataset_dir = 'C:/Users/zaema/Downloads/archive/'\n",
    "\n",
    "for file_name in os.listdir(dataset_dir):\n",
    "    img = plt.imread(os.path.join(dataset_dir, file_name))\n",
    "    # print(img.shape)\n",
    "    data.append(img.flatten())  # Flatten image into a 1D array\n",
    "    labels.append(extract_person_label(file_name))\n",
    "\n",
    "data = np.array(data)\n",
    "labels = np.array(labels)\n",
    "\n",
    "# Split the data into training and testing sets\n",
    "X_train, X_test, y_train, y_test = train_test_split(data, labels, test_size=0.2, random_state=42)"
   ]
  },
  {
   "cell_type": "code",
   "execution_count": 2,
   "metadata": {},
   "outputs": [
    {
     "data": {
      "text/plain": [
       "(132, 77760)"
      ]
     },
     "execution_count": 2,
     "metadata": {},
     "output_type": "execute_result"
    }
   ],
   "source": [
    "X_train.shape"
   ]
  },
  {
   "cell_type": "code",
   "execution_count": 3,
   "metadata": {},
   "outputs": [],
   "source": [
    "from sklearn.preprocessing import OneHotEncoder\n",
    "\n",
    "encoder = OneHotEncoder(sparse=False)\n",
    "y_train_onehot = encoder.fit_transform(y_train.reshape(-1, 1))\n",
    "y_test_onehot = encoder.transform(y_test.reshape(-1, 1))\n"
   ]
  },
  {
   "cell_type": "code",
   "execution_count": 4,
   "metadata": {},
   "outputs": [
    {
     "data": {
      "text/plain": [
       "(132, 15)"
      ]
     },
     "execution_count": 4,
     "metadata": {},
     "output_type": "execute_result"
    }
   ],
   "source": [
    "y_train_onehot.shape"
   ]
  },
  {
   "cell_type": "code",
   "execution_count": 6,
   "metadata": {},
   "outputs": [],
   "source": [
    "import numpy as np\n",
    "\n",
    "class MLP:\n",
    "    def __init__(self, input_size, layers, activations, learning_rate=0.01, momentum=0.9):\n",
    "        self.input_size = input_size\n",
    "        self.layers = layers\n",
    "        self.activations = activations\n",
    "        self.learning_rate = learning_rate\n",
    "        self.momentum = momentum\n",
    "        self.weights = self._initialize_weights()\n",
    "        self.prev_gradients = [np.zeros_like(w) for w in self.weights]\n",
    "        \n",
    "    def _initialize_weights(self):\n",
    "        weights = []\n",
    "        input_neurons = self.input_size\n",
    "        \n",
    "        for output_neurons in self.layers:\n",
    "            w = np.random.randn(input_neurons, output_neurons) * np.sqrt(2. / input_neurons)\n",
    "            weights.append(w)\n",
    "            input_neurons = output_neurons\n",
    "        return weights\n",
    "\n",
    "    def _activation(self, z, type):\n",
    "        if type == \"sigmoid\":\n",
    "            return 1 / (1 + np.exp(-z))\n",
    "        elif type == \"relu\":\n",
    "            return np.maximum(0, z)\n",
    "        # add other activation functions if needed\n",
    "\n",
    "    def _activation_derivative(self, z, type):\n",
    "        if type == \"sigmoid\":\n",
    "            a = self._activation(z, type)\n",
    "            return a * (1 - a)\n",
    "        elif type == \"relu\":\n",
    "            return (z > 0).astype(float)\n",
    "        # add derivatives for other activation functions if needed\n",
    "\n",
    "    def _forward(self, xi):\n",
    "        activations = [xi]\n",
    "        sums = []\n",
    "            \n",
    "        for i in range(len(self.layers)):\n",
    "            z = activations[-1] @ self.weights[i]\n",
    "            a = self._activation(z, self.activations[i])\n",
    "            sums.append(z)\n",
    "            activations.append(a)\n",
    "        return activations, sums\n",
    "    \n",
    "\n",
    "    def _backward(self, activations, sums, target):\n",
    "        errors = [(activations[-1] - target)]\n",
    "            \n",
    "        # For the other layers\n",
    "        for i in reversed(range(len(self.layers) - 1)):\n",
    "            derivative = self._activation_derivative(sums[i], self.activations[i])\n",
    "            error = (errors[-1] @ self.weights[i+1].T) * derivative\n",
    "            errors.append(error)\n",
    "            \n",
    "        errors.reverse()\n",
    "            \n",
    "        # Compute the gradient for each layer\n",
    "        for i in range(len(self.layers)):\n",
    "            gradient = activations[i].T @ errors[i]\n",
    "                \n",
    "            # Update with momentum\n",
    "            gradient = self.learning_rate * gradient + self.momentum * self.prev_gradients[i]\n",
    "            self.weights[i] -= gradient\n",
    "                \n",
    "            # Save the gradient for next iteration\n",
    "            self.prev_gradients[i] = gradient\n",
    "\n",
    "    def fit(self, X, y, epochs):\n",
    "        for epoch in range(epochs):\n",
    "            for xi, target_i in zip(X, y):\n",
    "                xi = xi.reshape(1, -1)  # Ensure xi is a row vector\n",
    "                target_i = target_i.reshape(1, -1)  # Ensure target_i is a row vector\n",
    "                \n",
    "                # Forward pass\n",
    "                activations, sums = self._forward(xi)\n",
    "                \n",
    "                # Backward pass\n",
    "                self._backward(activations, sums, target_i)\n",
    "\n",
    "\n",
    "    def predict(self, X):\n",
    "        predictions = []\n",
    "        for xi in X:\n",
    "            activations, _ = self._forward(xi)\n",
    "            predictions.append(activations[-1])\n",
    "        return np.array(predictions)\n",
    "\n",
    "    def test(self, X, y):\n",
    "        predictions = self.predict(X)\n",
    "        return np.mean(np.argmax(predictions, axis=1) == np.argmax(y, axis=1))\n"
   ]
  },
  {
   "cell_type": "code",
   "execution_count": 7,
   "metadata": {},
   "outputs": [],
   "source": [
    "from sklearn.base import BaseEstimator, ClassifierMixin\n",
    "from sklearn.model_selection import GridSearchCV\n",
    "\n",
    "class MLPClassifier(BaseEstimator, ClassifierMixin):\n",
    "    def __init__(self, input_size=None, layers=(100,), activations=('relu',), learning_rate=0.01, momentum=0.9, epochs=10):\n",
    "        self.input_size = input_size\n",
    "        self.layers = layers\n",
    "        self.activations = activations\n",
    "        self.learning_rate = learning_rate\n",
    "        self.momentum = momentum\n",
    "        self.epochs = epochs\n",
    "        self.model = None\n",
    "\n",
    "    def fit(self, X, y):\n",
    "        self.model = MLP(self.input_size, self.layers, self.activations, self.learning_rate, self.momentum)\n",
    "        self.model.fit(X, y, self.epochs)\n",
    "        return self\n",
    "\n",
    "    def predict(self, X):\n",
    "        return self.model.predict(X)\n",
    "\n",
    "    def score(self, X, y):\n",
    "        return self.model.test(X, y)\n",
    "\n",
    "\n"
   ]
  },
  {
   "cell_type": "code",
   "execution_count": 8,
   "metadata": {},
   "outputs": [
    {
     "name": "stderr",
     "output_type": "stream",
     "text": [
      "C:\\Users\\zaema\\AppData\\Local\\Temp\\ipykernel_17548\\557082694.py:25: RuntimeWarning: overflow encountered in exp\n",
      "  return 1 / (1 + np.exp(-z))\n"
     ]
    },
    {
     "name": "stdout",
     "output_type": "stream",
     "text": [
      "Baseline Accuracy: 0.030303030303030304\n"
     ]
    }
   ],
   "source": [
    "unique_classes = y_train_onehot.shape[1]\n",
    "\n",
    "mlp_baseline = MLPClassifier(input_size=77760, layers=(100, unique_classes), activations=('relu', 'sigmoid'), learning_rate=0.01, momentum=0.9, epochs=10)\n",
    "# Fit the model\n",
    "mlp_baseline.fit(X_train, y_train_onehot)\n",
    "\n",
    "# Evaluate the model (for example, on a test set)\n",
    "y_pred_baseline = np.argmax(mlp_baseline.predict(X_test), axis=1)\n",
    "y_true = np.argmax(y_test_onehot, axis=1)\n",
    "accuracy_baseline = accuracy_score(y_true, y_pred_baseline)\n",
    "print(f\"Baseline Accuracy: {accuracy_baseline}\")"
   ]
  },
  {
   "cell_type": "code",
   "execution_count": 9,
   "metadata": {},
   "outputs": [],
   "source": [
    "# Now you can use GridSearchCV to tune the hyperparameters:\n",
    "unique_classes = len(np.unique(y_train))\n",
    "parameters = {\n",
    "    'layers': [\n",
    "        (50, unique_classes), \n",
    "        (100, unique_classes), \n",
    "        # (50, 50, unique_classes), \n",
    "        # (100, 50, unique_classes)],\n",
    "    ],\n",
    "    'activations': [ ('sigmoid', 'relu'),  ('sigmoid', 'sigmoid')],\n",
    "    'learning_rate': [0.001, 0.01],\n",
    "    'momentum': [0.7, 0.9],\n",
    "    'epochs': [5,10]\n",
    "}\n"
   ]
  },
  {
   "cell_type": "code",
   "execution_count": 8,
   "metadata": {},
   "outputs": [
    {
     "name": "stdout",
     "output_type": "stream",
     "text": [
      "(132, 15)\n",
      "(33, 15)\n"
     ]
    }
   ],
   "source": [
    "print(y_train_onehot.shape)\n",
    "print(y_test_onehot.shape)\n"
   ]
  },
  {
   "cell_type": "code",
   "execution_count": 10,
   "metadata": {},
   "outputs": [
    {
     "name": "stdout",
     "output_type": "stream",
     "text": [
      "Accuracy: 0.030303030303030304\n",
      "Precision: 0.0021645021645021645\n",
      "Recall: 0.07142857142857142\n",
      "F1 Score: 0.004201680672268908\n"
     ]
    },
    {
     "name": "stderr",
     "output_type": "stream",
     "text": [
      "c:\\Users\\zaema\\anaconda3\\lib\\site-packages\\sklearn\\metrics\\_classification.py:1318: UndefinedMetricWarning: Precision is ill-defined and being set to 0.0 in labels with no predicted samples. Use `zero_division` parameter to control this behavior.\n",
      "  _warn_prf(average, modifier, msg_start, len(result))\n"
     ]
    }
   ],
   "source": [
    "# Assuming you already predicted using your model:\n",
    "##without tuning\n",
    "y_pred = np.argmax(mlp_baseline.predict(X_test), axis=1)\n",
    "y_true = np.argmax(y_test_onehot, axis=1)\n",
    "\n",
    "accuracy = accuracy_score(y_true, y_pred)\n",
    "precision = precision_score(y_true, y_pred, average='macro')  # use 'micro' for micro-average\n",
    "recall = recall_score(y_true, y_pred, average='macro')  # use 'micro' for micro-average\n",
    "f1 = f1_score(y_true, y_pred, average='macro')  # use 'micro' for micro-average\n",
    "\n",
    "print(f\"Accuracy: {accuracy}\")\n",
    "print(f\"Precision: {precision}\")\n",
    "print(f\"Recall: {recall}\")\n",
    "print(f\"F1 Score: {f1}\")\n"
   ]
  },
  {
   "cell_type": "code",
   "execution_count": 11,
   "metadata": {},
   "outputs": [
    {
     "name": "stdout",
     "output_type": "stream",
     "text": [
      "Fitting 3 folds for each of 32 candidates, totalling 96 fits\n"
     ]
    },
    {
     "name": "stderr",
     "output_type": "stream",
     "text": [
      "C:\\Users\\zaema\\AppData\\Local\\Temp\\ipykernel_17548\\557082694.py:25: RuntimeWarning: overflow encountered in exp\n",
      "  return 1 / (1 + np.exp(-z))\n"
     ]
    },
    {
     "name": "stdout",
     "output_type": "stream",
     "text": [
      "Best parameters found:  {'activations': ('sigmoid', 'relu'), 'epochs': 5, 'layers': (100, 15), 'learning_rate': 0.001, 'momentum': 0.7}\n",
      "Best cross-validation score: 0.08\n"
     ]
    }
   ],
   "source": [
    "from sklearn.model_selection import GridSearchCV\n",
    "\n",
    "mlp_clf = MLPClassifier(input_size=77760)\n",
    "\n",
    "grid_search = GridSearchCV(mlp_clf, parameters, cv=3, verbose=1, n_jobs=-1)  # n_jobs=-1 will use all available CPUs\n",
    "grid_search.fit(X_train, y_train_onehot)\n",
    "\n",
    "best_clf = grid_search.best_estimator_\n",
    "\n",
    "print(\"Best parameters found: \", grid_search.best_params_)\n",
    "print(\"Best cross-validation score: {:.2f}\".format(grid_search.best_score_))\n"
   ]
  },
  {
   "cell_type": "code",
   "execution_count": 12,
   "metadata": {},
   "outputs": [
    {
     "name": "stdout",
     "output_type": "stream",
     "text": [
      "Accuracy: 0.06060606060606061\n",
      "Precision: 0.0047619047619047615\n",
      "Recall: 0.07142857142857142\n",
      "F1 Score: 0.008928571428571428\n"
     ]
    },
    {
     "name": "stderr",
     "output_type": "stream",
     "text": [
      "C:\\Users\\zaema\\AppData\\Local\\Temp\\ipykernel_17548\\557082694.py:25: RuntimeWarning: overflow encountered in exp\n",
      "  return 1 / (1 + np.exp(-z))\n",
      "c:\\Users\\zaema\\anaconda3\\lib\\site-packages\\sklearn\\metrics\\_classification.py:1318: UndefinedMetricWarning: Precision is ill-defined and being set to 0.0 in labels with no predicted samples. Use `zero_division` parameter to control this behavior.\n",
      "  _warn_prf(average, modifier, msg_start, len(result))\n"
     ]
    }
   ],
   "source": [
    "#with tuning\n",
    "best_mlp = grid_search.best_estimator_\n",
    "\n",
    "y_pred = np.argmax(best_mlp.predict(X_test), axis=1)\n",
    "y_true = np.argmax(y_test_onehot, axis=1)\n",
    "\n",
    "accuracy = accuracy_score(y_true, y_pred)\n",
    "precision = precision_score(y_true, y_pred, average='macro')\n",
    "recall = recall_score(y_true, y_pred, average='macro')\n",
    "f1 = f1_score(y_true, y_pred, average='macro')\n",
    "\n",
    "print(f\"Accuracy: {accuracy}\")\n",
    "print(f\"Precision: {precision}\")\n",
    "print(f\"Recall: {recall}\")\n",
    "print(f\"F1 Score: {f1}\")\n"
   ]
  },
  {
   "cell_type": "code",
   "execution_count": 14,
   "metadata": {},
   "outputs": [
    {
     "name": "stderr",
     "output_type": "stream",
     "text": [
      "C:\\Users\\zaema\\AppData\\Local\\Temp\\ipykernel_17548\\557082694.py:25: RuntimeWarning: overflow encountered in exp\n",
      "  return 1 / (1 + np.exp(-z))\n"
     ]
    },
    {
     "name": "stdout",
     "output_type": "stream",
     "text": [
      "[[0 0 0 0 0 0 0 0 1 0 0 0 0 0]\n",
      " [0 0 0 0 0 0 0 0 5 0 0 0 0 0]\n",
      " [0 0 0 0 0 0 0 0 4 0 0 0 0 0]\n",
      " [0 0 0 0 0 0 0 0 1 0 0 0 0 0]\n",
      " [0 1 0 0 0 0 0 0 0 0 0 0 0 2]\n",
      " [0 0 0 0 0 0 0 0 2 0 0 0 0 0]\n",
      " [0 0 0 0 0 0 0 0 2 0 0 0 0 0]\n",
      " [0 0 0 0 0 0 0 0 2 0 0 0 0 0]\n",
      " [0 0 0 0 0 0 0 0 2 0 0 0 0 0]\n",
      " [0 0 0 0 0 0 0 0 1 0 0 0 0 0]\n",
      " [0 0 0 0 0 0 0 0 1 0 0 0 0 0]\n",
      " [0 0 0 0 0 0 0 0 4 0 0 0 0 0]\n",
      " [0 0 0 0 0 0 0 0 2 0 0 0 0 0]\n",
      " [0 0 0 0 0 0 0 0 3 0 0 0 0 0]]\n"
     ]
    },
    {
     "data": {
      "image/png": "[encoded data removed]",
      "text/plain": [
       "<Figure size 1000x1000 with 1 Axes>"
      ]
     },
     "metadata": {},
     "output_type": "display_data"
    }
   ],
   "source": [
    "#plot confusion matrix for training data\n",
    "from sklearn.metrics import confusion_matrix\n",
    "import seaborn as sns\n",
    "\n",
    "y_pred = np.argmax(best_mlp.predict(X_test), axis=1)\n",
    "y_true = np.argmax(y_test_onehot, axis=1)\n",
    "\n",
    "cm = confusion_matrix(y_true, y_pred)\n",
    "print(cm)\n",
    "\n",
    "plt.figure(figsize=(10, 10))\n",
    "sns.heatmap(cm, annot=True, fmt='g', vmin=0, cbar=False)\n",
    "plt.xticks(np.arange(unique_classes) + 0.5, np.arange(unique_classes))\n",
    "plt.yticks(np.arange(unique_classes) + 0.5, np.arange(unique_classes))\n",
    "plt.xlabel(\"Predicted\")\n",
    "plt.ylabel(\"Actual\")\n",
    "plt.show()\n"
   ]
  }
 ],
 "metadata": {
  "kernelspec": {
   "display_name": "base",
   "language": "python",
   "name": "python3"
  },
  "language_info": {
   "codemirror_mode": {
    "name": "ipython",
    "version": 3
   },
   "file_extension": ".py",
   "mimetype": "text/x-python",
   "name": "python",
   "nbconvert_exporter": "python",
   "pygments_lexer": "ipython3",
   "version": "3.9.16"
  },
  "orig_nbformat": 4
 },
 "nbformat": 4,
 "nbformat_minor": 2
}
